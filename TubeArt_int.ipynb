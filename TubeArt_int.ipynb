{
 "nbformat": 4,
 "nbformat_minor": 0,
 "metadata": {
  "colab": {
   "provenance": [],
   "machine_shape": "hm",
   "gpuType": "A100"
  },
  "kernelspec": {
   "name": "python3",
   "display_name": "Python 3"
  },
  "language_info": {
   "name": "python"
  },
  "accelerator": "GPU"
 },
 "cells": [
  {
   "cell_type": "code",
   "execution_count": null,
   "metadata": {
    "id": "tea1rtLzbwnu"
   },
   "outputs": [],
   "source": [
    "%pip install git+https://github.com/ai-forever/diffusers.git\n",
    "%pip install transformers\n",
    "%pip install accelerate\n",
    "%mkdir /content\n",
    "%cd /content\n",
    "!git clone -b v1.0 https://github.com/camenduru/LLaVA\n",
    "%cd /content/LLaVA\n",
    "%pip install -q gradio .\n",
    "%mkdir key_frames"
   ]
  },
  {
   "cell_type": "code",
   "source": [
    "import gc\n",
    "import torch\n",
    "gc.collect()\n",
    "torch.cuda.empty_cache()\n",
    "!python3 ../main.py"
   ],
   "metadata": {
    "colab": {
     "base_uri": "https://localhost:8080/"
    },
    "id": "y-JZ6VTqb2dJ",
    "outputId": "36d53cec-1462-40b7-adc6-664b98990b61"
   },
   "execution_count": null,
   "outputs": []
  }
 ]
}
